{
 "cells": [
  {
   "cell_type": "markdown",
   "id": "27052de8-67b5-42b7-8389-61d0cc6c7aef",
   "metadata": {},
   "source": [
    "## Graph generator"
   ]
  },
  {
   "cell_type": "code",
   "execution_count": 1,
   "id": "cdad3b8a",
   "metadata": {},
   "outputs": [
    {
     "name": "stdout",
     "output_type": "stream",
     "text": [
      "0,,15\n",
      "1,,32\n",
      "2,,29\n",
      "3,,19\n",
      "4,,23\n",
      "5,,22\n",
      "6,,14\n",
      "7,,39\n",
      "8,,39\n",
      "9,,24\n",
      "10,,32\n",
      "11,,23\n",
      "12,,21\n",
      "13,,3\n",
      "14,,26\n",
      "15,,16\n",
      "16,,9\n",
      "17,,9\n",
      "18,,35\n",
      "19,,26\n",
      "0,10\n",
      "0,11\n",
      "1,10\n",
      "1,13\n",
      "1,15\n",
      "2,4\n",
      "2,14\n",
      "3,7\n",
      "4,8\n",
      "5,6\n",
      "5,9\n",
      "5,10\n",
      "7,17\n",
      "9,15\n",
      "9,18\n",
      "10,19\n",
      "12,15\n",
      "12,17\n",
      "13,14\n",
      "16,19\n",
      "N0,,0;11\n",
      "N1,,8;2;4\n",
      "N2,,2;13;14\n",
      "N3,,1;13\n",
      "N4,,5;6\n",
      "N5,,9;18\n",
      "N6,,17;3;7\n",
      "N7,,17;12\n",
      "N8,,1;12;9;15\n",
      "N9,,1;5;9\n",
      "N10,,16;19\n",
      "N11,,0;1;19;5;10\n",
      "N2,N1,\n",
      "N3,N2,\n",
      "N7,N6,\n",
      "N8,N7,\n",
      "N9,N5,\n",
      "N9,N8,\n",
      "N11,N0,\n",
      "N11,N3,\n",
      "N11,N4,\n",
      "N11,N9,\n",
      "N11,N10,\n"
     ]
    }
   ],
   "source": [
    "from helper import *\n",
    "\n",
    "create_instance(20, 0.1, 40, \"50_0.1\")\n"
   ]
  },
  {
   "cell_type": "code",
   "execution_count": null,
   "id": "2e4203f7",
   "metadata": {},
   "outputs": [],
   "source": []
  },
  {
   "cell_type": "code",
   "execution_count": null,
   "id": "e334353b",
   "metadata": {},
   "outputs": [],
   "source": []
  }
 ],
 "metadata": {
  "kernelspec": {
   "display_name": "Python 3 (ipykernel)",
   "language": "python",
   "name": "python3"
  },
  "language_info": {
   "codemirror_mode": {
    "name": "ipython",
    "version": 3
   },
   "file_extension": ".py",
   "mimetype": "text/x-python",
   "name": "python",
   "nbconvert_exporter": "python",
   "pygments_lexer": "ipython3",
   "version": "3.10.12"
  }
 },
 "nbformat": 4,
 "nbformat_minor": 5
}
