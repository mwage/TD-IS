{
 "cells": [
  {
   "cell_type": "markdown",
   "id": "27052de8-67b5-42b7-8389-61d0cc6c7aef",
   "metadata": {},
   "source": [
    "## Graph generator"
   ]
  },
  {
   "cell_type": "code",
   "execution_count": 1,
   "id": "e1bc05d2-088b-418a-91f0-8011f50f9b70",
   "metadata": {},
   "outputs": [
    {
     "ename": "ModuleNotFoundError",
     "evalue": "No module named 'graphs'",
     "output_type": "error",
     "traceback": [
      "\u001b[0;31m---------------------------------------------------------------------------\u001b[0m",
      "\u001b[0;31mModuleNotFoundError\u001b[0m                       Traceback (most recent call last)",
      "\u001b[0;32m/tmp/ipykernel_371087/2831328521.py\u001b[0m in \u001b[0;36m<module>\u001b[0;34m\u001b[0m\n\u001b[1;32m      1\u001b[0m \u001b[0;31m# from sage.graphs.graph import Graph\u001b[0m\u001b[0;34m\u001b[0m\u001b[0;34m\u001b[0m\u001b[0m\n\u001b[1;32m      2\u001b[0m \u001b[0;32mfrom\u001b[0m \u001b[0msage\u001b[0m \u001b[0;32mimport\u001b[0m \u001b[0mgraphs\u001b[0m\u001b[0;34m\u001b[0m\u001b[0;34m\u001b[0m\u001b[0m\n\u001b[0;32m----> 3\u001b[0;31m \u001b[0;32mfrom\u001b[0m \u001b[0mgraphs\u001b[0m \u001b[0;32mimport\u001b[0m \u001b[0mGraph\u001b[0m\u001b[0;34m\u001b[0m\u001b[0;34m\u001b[0m\u001b[0m\n\u001b[0m\u001b[1;32m      4\u001b[0m \u001b[0;31m# from sage.graphs.graph_decompositions.tree_decomposition import TreelengthConnected\u001b[0m\u001b[0;34m\u001b[0m\u001b[0;34m\u001b[0m\u001b[0m\n\u001b[1;32m      5\u001b[0m \u001b[0;32mfrom\u001b[0m \u001b[0mrandom\u001b[0m \u001b[0;32mimport\u001b[0m \u001b[0;34m*\u001b[0m\u001b[0;34m\u001b[0m\u001b[0;34m\u001b[0m\u001b[0m\n",
      "\u001b[0;31mModuleNotFoundError\u001b[0m: No module named 'graphs'"
     ]
    }
   ],
   "source": [
    "from sage.graphs.graph import Graph\n",
    "from sage import graphs\n",
    "from sage.graphs.graph_decompositions.tree_decomposition import TreelengthConnected\n",
    "from random import *\n",
    "\n",
    "num_vertices = 20\n",
    "density = 0.2\n",
    "upper_weight = 2*num_vertices\n",
    "\n",
    "def create_rand_graph(num_vertices, density, upper_weight):\n",
    "    while True:\n",
    "        graph = Graph(num_vertices)\n",
    "        for v in range(0, num_vertices):\n",
    "            w = randrange(0, num_vertices-1)\n",
    "            if w >= v:\n",
    "                w += 1\n",
    "            graph.add_edge(v,w)\n",
    "\n",
    "        while graph.density() < density:\n",
    "            v = randrange(0, num_vertices)\n",
    "            w = randrange(0, num_vertices-1)\n",
    "            if w >= v:\n",
    "                w += 1\n",
    "            graph.add_edge(v,w)\n",
    "\n",
    "        if graph.is_connected():\n",
    "            weights = [randint(1,upper_weight) for _ in range(0,num_vertices)]\n",
    "            return (graph, weights)\n",
    "\n",
    "def get_graph_str(graph, weights):\n",
    "    g_str = \"\\n\".join([f\"{v},,{weights[v]}\" for v in graph.vertices()])\n",
    "    g_str += \"\\n\"\n",
    "    g_str += \"\\n\".join([f\"{edge[0]},{edge[1]}\" for edge in graph.edges()])\n",
    "    return g_str\n",
    "\n",
    "def get_td_str(graph):\n",
    "    td = TreelengthConnected(graph, certificate=True).get_tree_decomposition()\n",
    "    td_str = \"\"\n",
    "    vertices = {}\n",
    "    for (i, v) in enumerate(td.vertices()):\n",
    "        vertices[v] = i\n",
    "        v_names = \";\".join([str(x) for x in v])\n",
    "        td_str += f\"N{i},,{v_names}\\n\"\n",
    "    td_str += \"\\n\".join([f\"N{vertices[edge[0]]},N{vertices[edge[1]]},\" for edge in td.edges()])\n",
    "    return td_str\n",
    "\n",
    "def create_instance(num_vertices, density, upper_weight, name):\n",
    "    (g, weights) = create_rand_graph(num_vertices, density, upper_weight)\n",
    "    g_str = get_graph_str(g, weights)\n",
    "    td_str = get_td_str(g)\n",
    "\n",
    "    print(g_str)\n",
    "    print(td_str)\n",
    "\n",
    "    with open(f\"../TD-IS/instances/{name}G.csv\", \"w\") as text_file:\n",
    "        text_file.write(g_str)\n",
    "    with open(f\"../TD-IS/instances/{name}TD.csv\", \"w\") as text_file:\n",
    "        text_file.write(td_str)\n"
   ]
  },
  {
   "cell_type": "code",
   "execution_count": 18,
   "id": "cdad3b8a",
   "metadata": {},
   "outputs": [
    {
     "ename": "AttributeError",
     "evalue": "module 'sage.graphs' has no attribute 'Graph'",
     "output_type": "error",
     "traceback": [
      "\u001b[0;31m---------------------------------------------------------------------------\u001b[0m",
      "\u001b[0;31mAttributeError\u001b[0m                            Traceback (most recent call last)",
      "\u001b[0;32m/tmp/ipykernel_370987/918640841.py\u001b[0m in \u001b[0;36m<module>\u001b[0;34m\u001b[0m\n\u001b[0;32m----> 1\u001b[0;31m \u001b[0mcreate_instance\u001b[0m\u001b[0;34m(\u001b[0m\u001b[0;36m50\u001b[0m\u001b[0;34m,\u001b[0m \u001b[0;36m0.1\u001b[0m\u001b[0;34m,\u001b[0m \u001b[0;36m100\u001b[0m\u001b[0;34m,\u001b[0m \u001b[0;34m\"50_0.1\"\u001b[0m\u001b[0;34m)\u001b[0m\u001b[0;34m\u001b[0m\u001b[0;34m\u001b[0m\u001b[0m\n\u001b[0m",
      "\u001b[0;32m/tmp/ipykernel_370987/913641453.py\u001b[0m in \u001b[0;36mcreate_instance\u001b[0;34m(num_vertices, density, upper_weight, name)\u001b[0m\n\u001b[1;32m     46\u001b[0m \u001b[0;34m\u001b[0m\u001b[0m\n\u001b[1;32m     47\u001b[0m \u001b[0;32mdef\u001b[0m \u001b[0mcreate_instance\u001b[0m\u001b[0;34m(\u001b[0m\u001b[0mnum_vertices\u001b[0m\u001b[0;34m,\u001b[0m \u001b[0mdensity\u001b[0m\u001b[0;34m,\u001b[0m \u001b[0mupper_weight\u001b[0m\u001b[0;34m,\u001b[0m \u001b[0mname\u001b[0m\u001b[0;34m)\u001b[0m\u001b[0;34m:\u001b[0m\u001b[0;34m\u001b[0m\u001b[0;34m\u001b[0m\u001b[0m\n\u001b[0;32m---> 48\u001b[0;31m     \u001b[0;34m(\u001b[0m\u001b[0mg\u001b[0m\u001b[0;34m,\u001b[0m \u001b[0mweights\u001b[0m\u001b[0;34m)\u001b[0m \u001b[0;34m=\u001b[0m \u001b[0mcreate_rand_graph\u001b[0m\u001b[0;34m(\u001b[0m\u001b[0mnum_vertices\u001b[0m\u001b[0;34m,\u001b[0m \u001b[0mdensity\u001b[0m\u001b[0;34m,\u001b[0m \u001b[0mupper_weight\u001b[0m\u001b[0;34m)\u001b[0m\u001b[0;34m\u001b[0m\u001b[0;34m\u001b[0m\u001b[0m\n\u001b[0m\u001b[1;32m     49\u001b[0m     \u001b[0mg_str\u001b[0m \u001b[0;34m=\u001b[0m \u001b[0mget_graph_str\u001b[0m\u001b[0;34m(\u001b[0m\u001b[0mg\u001b[0m\u001b[0;34m,\u001b[0m \u001b[0mweights\u001b[0m\u001b[0;34m)\u001b[0m\u001b[0;34m\u001b[0m\u001b[0;34m\u001b[0m\u001b[0m\n\u001b[1;32m     50\u001b[0m     \u001b[0mtd_str\u001b[0m \u001b[0;34m=\u001b[0m \u001b[0mget_td_str\u001b[0m\u001b[0;34m(\u001b[0m\u001b[0mg\u001b[0m\u001b[0;34m)\u001b[0m\u001b[0;34m\u001b[0m\u001b[0;34m\u001b[0m\u001b[0m\n",
      "\u001b[0;32m/tmp/ipykernel_370987/913641453.py\u001b[0m in \u001b[0;36mcreate_rand_graph\u001b[0;34m(num_vertices, density, upper_weight)\u001b[0m\n\u001b[1;32m     10\u001b[0m \u001b[0;32mdef\u001b[0m \u001b[0mcreate_rand_graph\u001b[0m\u001b[0;34m(\u001b[0m\u001b[0mnum_vertices\u001b[0m\u001b[0;34m,\u001b[0m \u001b[0mdensity\u001b[0m\u001b[0;34m,\u001b[0m \u001b[0mupper_weight\u001b[0m\u001b[0;34m)\u001b[0m\u001b[0;34m:\u001b[0m\u001b[0;34m\u001b[0m\u001b[0;34m\u001b[0m\u001b[0m\n\u001b[1;32m     11\u001b[0m     \u001b[0;32mwhile\u001b[0m \u001b[0;32mTrue\u001b[0m\u001b[0;34m:\u001b[0m\u001b[0;34m\u001b[0m\u001b[0;34m\u001b[0m\u001b[0m\n\u001b[0;32m---> 12\u001b[0;31m         \u001b[0mgraph\u001b[0m \u001b[0;34m=\u001b[0m \u001b[0mgraphs\u001b[0m\u001b[0;34m.\u001b[0m\u001b[0mGraph\u001b[0m\u001b[0;34m(\u001b[0m\u001b[0mnum_vertices\u001b[0m\u001b[0;34m)\u001b[0m\u001b[0;34m\u001b[0m\u001b[0;34m\u001b[0m\u001b[0m\n\u001b[0m\u001b[1;32m     13\u001b[0m         \u001b[0;32mfor\u001b[0m \u001b[0mv\u001b[0m \u001b[0;32min\u001b[0m \u001b[0mrange\u001b[0m\u001b[0;34m(\u001b[0m\u001b[0;36m0\u001b[0m\u001b[0;34m,\u001b[0m \u001b[0mnum_vertices\u001b[0m\u001b[0;34m)\u001b[0m\u001b[0;34m:\u001b[0m\u001b[0;34m\u001b[0m\u001b[0;34m\u001b[0m\u001b[0m\n\u001b[1;32m     14\u001b[0m             \u001b[0mw\u001b[0m \u001b[0;34m=\u001b[0m \u001b[0mrandrange\u001b[0m\u001b[0;34m(\u001b[0m\u001b[0;36m0\u001b[0m\u001b[0;34m,\u001b[0m \u001b[0mnum_vertices\u001b[0m\u001b[0;34m-\u001b[0m\u001b[0;36m1\u001b[0m\u001b[0;34m)\u001b[0m\u001b[0;34m\u001b[0m\u001b[0;34m\u001b[0m\u001b[0m\n",
      "\u001b[0;31mAttributeError\u001b[0m: module 'sage.graphs' has no attribute 'Graph'"
     ]
    }
   ],
   "source": [
    "create_instance(50, 0.1, 100, \"50_0.1\")\n"
   ]
  },
  {
   "cell_type": "code",
   "execution_count": null,
   "id": "2e4203f7",
   "metadata": {},
   "outputs": [],
   "source": []
  },
  {
   "cell_type": "code",
   "execution_count": null,
   "id": "e334353b",
   "metadata": {},
   "outputs": [],
   "source": []
  }
 ],
 "metadata": {
  "kernelspec": {
   "display_name": "Python 3 (ipykernel)",
   "language": "python",
   "name": "python3"
  },
  "language_info": {
   "codemirror_mode": {
    "name": "ipython",
    "version": 3
   },
   "file_extension": ".py",
   "mimetype": "text/x-python",
   "name": "python",
   "nbconvert_exporter": "python",
   "pygments_lexer": "ipython3",
   "version": "3.10.12"
  }
 },
 "nbformat": 4,
 "nbformat_minor": 5
}
