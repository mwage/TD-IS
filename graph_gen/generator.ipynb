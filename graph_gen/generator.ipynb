{
 "cells": [
  {
   "cell_type": "markdown",
   "id": "27052de8-67b5-42b7-8389-61d0cc6c7aef",
   "metadata": {},
   "source": [
    "## Graph generator"
   ]
  },
  {
   "cell_type": "code",
   "execution_count": 3,
   "id": "e1bc05d2-088b-418a-91f0-8011f50f9b70",
   "metadata": {},
   "outputs": [],
   "source": []
  }
 ],
 "metadata": {
  "kernelspec": {
   "display_name": "Python 3 (ipykernel)",
   "language": "python",
   "name": "python3"
  },
  "language_info": {
   "codemirror_mode": {
    "name": "ipython",
    "version": 3
   },
   "file_extension": ".py",
   "mimetype": "text/x-python",
   "name": "python",
   "nbconvert_exporter": "python",
   "pygments_lexer": "ipython3",
   "version": "3.12.3"
  }
 },
 "nbformat": 4,
 "nbformat_minor": 5
}
